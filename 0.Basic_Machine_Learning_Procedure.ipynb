{
 "cells": [
  {
   "cell_type": "markdown",
   "id": "37113471",
   "metadata": {},
   "source": [
    "<h2 style = 'color:blueviolet'><left>Basic Machine_Learning_Procedure</left></h2>"
   ]
  },
  {
   "cell_type": "markdown",
   "id": "fec6429a",
   "metadata": {},
   "source": [
    "machine learning typically follows a general procedure or workflow that includes several key steps. While the specific implementation and order of these steps may vary depending on the problem and the techniques used, the following are commonly involved in the machine learning process:"
   ]
  },
  {
   "cell_type": "markdown",
   "id": "68eaa240",
   "metadata": {},
   "source": [
    "1.\tBusiness Problem Understanding & Problem Formulation\n",
    "\n",
    "2.\tData Collection According to Business Problem\n",
    "        \n",
    "3.\tExploratory Data Analysis\n",
    "\n",
    "        a.\tData Loading [ Dealing with different types of file formats and Errors while Loading ]\n",
    "        \n",
    "        b.\tLowering the Data\n",
    "        \n",
    "            Data Cleaning\n",
    "        \n",
    "        c.\tDuplicates checking\n",
    "        \n",
    "        d.\tTreating Missing Values in Dependent and Independent Variables \n",
    "        \n",
    "               i.\tChecking For Missing Values\n",
    "               \n",
    "              ii.\tHandle Missing Data\n",
    "               \n",
    "             iii.\tDeleting Missing Values OR\n",
    "               \n",
    "              iv.\tImputing Missing Values\n",
    "               \n",
    "                    a.\tReplacing with Arbitrary Values\n",
    "                    \n",
    "                    b.\tFrequent Category Imputation [ Filling with Mode ]\n",
    "                    \n",
    "                    c.\tReplacing with Mean\n",
    "                    \n",
    "                    d.\tReplacing Median\n",
    "                    \n",
    "                    e.\tReplacing with Previous Values – Forward Fill\n",
    "                    \n",
    "                    f.\tReplacing with Next Value – Backward Fill\n",
    "                    \n",
    "                    g.\tImputing Using Interpolation\n",
    "                    \n",
    "                    h.\tImputing with SK-Learn’s Uni and Multi variate Approach\n",
    "                    \n",
    "        e.\tOutliers Detection and Treating\n",
    "        \n",
    "            1.\tVisualisation Metod\n",
    "            \n",
    "                a.\tOutliers Detecting Using Histogram\n",
    "                \n",
    "                b.\tOutliers Detecting using Boxplot\n",
    "                \n",
    "                c.\tOutliers Detecting Using Scatter Plot\n",
    "                \n",
    "            2.\tStatistical Method\n",
    "            \n",
    "                a.\tZ-Score Method for Normal Distribution of Data \n",
    "                \n",
    "                b.\tIQR- Method for Skewed Distribution of Data\n",
    "                \n",
    "                c.\tPercentile Based Approach\n",
    "                \n",
    "                d.\tSpecial Case – Capping with Winsorizer method \n",
    "                \n",
    "4.\tFeature Engineering\n",
    "\n",
    "        1.\tEncoding The Labelled Data\n",
    "        \n",
    "            a.\tLabel Encoding\n",
    "            \n",
    "            b.\tOne-Hot-Encoding\n",
    "            \n",
    "            c.\tSpecial Case – get_dummies()\n",
    "             \n",
    "        2.\tFeature Scaling \n",
    "        \n",
    "            a.\tStandardization\n",
    "            \n",
    "            b.\tNormalization\n",
    "            \n",
    "            \n",
    "5. Train, Test Data sets splitting \n",
    "\n",
    "\n",
    "6. Model selection and training \n",
    "\n",
    "\n",
    "7. Model evaluation \n",
    "\n",
    "\n",
    "8. Model optimization and tuning\n",
    "\n",
    "\n",
    "9. Model deployment and monitoring"
   ]
  },
  {
   "cell_type": "markdown",
   "id": "96a39331",
   "metadata": {},
   "source": [
    "##### Note: \n",
    "\n",
    "It's important to note that the machine learning process is iterative and often involves going back and forth between different steps, such as re-evaluating the problem formulation or adjusting the preprocessing techniques based on the model's performance."
   ]
  },
  {
   "cell_type": "code",
   "execution_count": null,
   "id": "105f907c",
   "metadata": {},
   "outputs": [],
   "source": []
  }
 ],
 "metadata": {
  "kernelspec": {
   "display_name": "Python 3 (ipykernel)",
   "language": "python",
   "name": "python3"
  },
  "language_info": {
   "codemirror_mode": {
    "name": "ipython",
    "version": 3
   },
   "file_extension": ".py",
   "mimetype": "text/x-python",
   "name": "python",
   "nbconvert_exporter": "python",
   "pygments_lexer": "ipython3",
   "version": "3.10.11"
  }
 },
 "nbformat": 4,
 "nbformat_minor": 5
}
